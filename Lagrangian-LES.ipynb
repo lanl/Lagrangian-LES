{
 "cells": [
  {
   "cell_type": "code",
   "execution_count": 3,
   "id": "112ab31d",
   "metadata": {},
   "outputs": [],
   "source": [
    "import os\n",
    "import sys\n",
    "from math import pi, sqrt\n",
    "import numpy as np\n",
    "from numpy.random import rand\n",
    "import time\n",
    "import matplotlib.pyplot as plt\n",
    "\n",
    "import torch\n",
    "import torch.nn as nn\n",
    "import torch.nn.functional as F\n",
    "import torch.optim as optim\n",
    "from torch.autograd import grad\n",
    "from torch.autograd import Variable\n",
    "from random import random, normalvariate\n",
    "from sklearn.neighbors import NearestNeighbors\n",
    "\n",
    "from scipy.interpolate import RegularGridInterpolator\n",
    "\n",
    "from model.utility import generate_data,generate_data_Lag, histogramcnn, histtopdf,make_grid, cal_grid_data\n",
    "from model.LLES import kernel, LLES\n",
    "\n",
    "from copy import copy\n",
    "torch.set_default_dtype(torch.float64)"
   ]
  },
  {
   "cell_type": "markdown",
   "id": "25efd3af",
   "metadata": {},
   "source": [
    "# Train the smoothing kernel first before training L-LES  model"
   ]
  },
  {
   "cell_type": "code",
   "execution_count": 4,
   "id": "219737f7",
   "metadata": {},
   "outputs": [],
   "source": [
    "device = torch.device(\"cuda:0\" if torch.cuda.is_available() else \"cpu\")"
   ]
  },
  {
   "cell_type": "markdown",
   "id": "f942fd27",
   "metadata": {},
   "source": [
    "# Load Lagrangian data\n",
    "\n",
    "Load the trajectory of the Lagrangian particle to the variable pos_traj(position), vel_traj(velocity), rho_traj(density)\n",
    "\n",
    "They should have the shape of (ntime, nparticle, 3) for velocity and position or (ntime, nparticle, 1) for density. \n",
    "\n",
    "In this notebook, we use ntime =2, nparticle = 262144"
   ]
  },
  {
   "cell_type": "code",
   "execution_count": 13,
   "id": "7321151b",
   "metadata": {},
   "outputs": [],
   "source": [
    "def read_HIT_data(device):\n",
    "    loadData = np.load('dataset/HIT_Mt008_train.npz', allow_pickle=True)\n",
    "    pos_traj = loadData['pos']\n",
    "    vel_traj = loadData['vel']\n",
    "    rho_traj = loadData['rho']\n",
    "    return torch.from_numpy(pos_traj).to(device), torch.from_numpy(vel_traj).to(device), torch.from_numpy(rho_traj).to(device)"
   ]
  },
  {
   "cell_type": "code",
   "execution_count": 14,
   "id": "fcbe0d81",
   "metadata": {},
   "outputs": [],
   "source": [
    "# Read HIT data for Mt=0.08\n",
    "pos_traj, vel_traj, rho_traj = read_HIT_data(device)"
   ]
  },
  {
   "cell_type": "code",
   "execution_count": 15,
   "id": "189bc19a",
   "metadata": {
    "scrolled": true
   },
   "outputs": [],
   "source": [
    "#Obtain the reference scale oof the velocity and density\n",
    "vref = (vel_traj.var())**0.5\n",
    "rhoref = (rho_traj.var())**0.5"
   ]
  },
  {
   "cell_type": "code",
   "execution_count": 16,
   "id": "cbf5362a",
   "metadata": {},
   "outputs": [],
   "source": [
    "N = 262144  ## 64**3\n",
    "dt = 0.05\n",
    "tref = torch.tensor(0.1) # Should the be reference timescale at the filtered scale\n",
    "nfield = 32\n",
    "nfieldt = nfield**3\n",
    "neighbor_kernel = 60\n"
   ]
  },
  {
   "cell_type": "code",
   "execution_count": 17,
   "id": "6cb2374c",
   "metadata": {},
   "outputs": [
    {
     "data": {
      "text/plain": [
       "<All keys matched successfully>"
      ]
     },
     "execution_count": 17,
     "metadata": {},
     "output_type": "execute_result"
    }
   ],
   "source": [
    "#Load the pre-trained kernel function\n",
    "kernel_wnn = kernel(N, nfield, neighbor_kernel, device)\n",
    "kernel_wnn.load_state_dict(torch.load(\"SmoothingKernel.params\"))"
   ]
  },
  {
   "cell_type": "code",
   "execution_count": 18,
   "id": "9e481e20",
   "metadata": {},
   "outputs": [],
   "source": [
    "model  = LLES(device, N,dt, vref, tref,rhoref, nfieldt, kernel_wnn ,neighbor_kernel)"
   ]
  },
  {
   "cell_type": "code",
   "execution_count": 19,
   "id": "d25a3477",
   "metadata": {},
   "outputs": [],
   "source": [
    "traj_train_label_vel = ((vel_traj[1:]-vel_traj[:-1])/dt)\n",
    "traj_train_label_rho = ((rho_traj[1:]-rho_traj[:-1])/dt)"
   ]
  },
  {
   "cell_type": "markdown",
   "id": "712b50b3",
   "metadata": {},
   "source": [
    "# Setup Statistics-based Loss function\n",
    "\n",
    "Build kerenl function that maps samples to histogram."
   ]
  },
  {
   "cell_type": "code",
   "execution_count": 20,
   "id": "dc6d6a5d",
   "metadata": {},
   "outputs": [],
   "source": [
    "#Velocity histogram\n",
    "accl_max = ((vel_traj[1:]-vel_traj[:-1])/dt).abs().max()\n",
    "datatohist = histogramcnn(accl_max)\n",
    "datatohist.to(device)\n",
    "datatohist.set_param(device)\n",
    "\n",
    "#Density histogram\n",
    "rho_max = ((rho_traj[1:]-rho_traj[:-1])/dt).abs().max()\n",
    "datatohist_rho = histogramcnn(rho_max)\n",
    "datatohist_rho.to(device)\n",
    "datatohist_rho.set_param(device)"
   ]
  },
  {
   "cell_type": "markdown",
   "id": "079762e8",
   "metadata": {},
   "source": [
    "# Setup Eulerian-grid based Loss function"
   ]
  },
  {
   "cell_type": "code",
   "execution_count": 21,
   "id": "415bdef5",
   "metadata": {},
   "outputs": [
    {
     "name": "stdout",
     "output_type": "stream",
     "text": [
      "Generating GT field data\n"
     ]
    }
   ],
   "source": [
    "# Generate field data for training\n",
    "grid = make_grid(nfield)\n",
    "grid_field_ref, w_field, p_rho, fneighbor=cal_grid_data(pos_traj[0],vel_traj[0],rho_traj[0],grid,kernel_wnn,neighbor_kernel)\n",
    "field_train_label = torch.tensor(grid_field_ref).to(device)\n",
    "w_field = torch.from_numpy(w_field).to(device)"
   ]
  },
  {
   "cell_type": "code",
   "execution_count": 22,
   "id": "84ffd2e5",
   "metadata": {},
   "outputs": [],
   "source": [
    "# Compute the neighbors list of particles and grid points\n",
    "out = model.update_neighborlist_sklearn(pos_traj[0],fneighbor)"
   ]
  },
  {
   "cell_type": "code",
   "execution_count": 23,
   "id": "e4f44228",
   "metadata": {},
   "outputs": [],
   "source": [
    "# Configure the coeffcients of different loss function and optimizer\n",
    "alpha_field = 1.0\n",
    "alpha_kl = 0.1\n",
    "alpha_traj = 1.0\n",
    "model.to(device)\n",
    "optimizer = torch.optim.Adam(model.parameters(), lr=1e-5)\n",
    "scheduler = torch.optim.lr_scheduler.StepLR(optimizer, step_size=200, gamma=0.5)"
   ]
  },
  {
   "cell_type": "code",
   "execution_count": 24,
   "id": "6f6215aa",
   "metadata": {},
   "outputs": [],
   "source": [
    "# Setup minibatch for field-based and trajectory-based loss function\n",
    "batch_size_f =32*8\n",
    "batch_number_f = int(nfieldt/batch_size_f)\n",
    "batch_array_f = np.arange(nfieldt)\n",
    "np.random.shuffle(batch_array_f)\n",
    "batch_array_f=torch.tensor(batch_array_f.reshape([batch_number_f,batch_size_f]))\n",
    "#-------traj batch ------------                                                \n",
    "batch_size_t =128*32\n",
    "batch_number_t = int(N/batch_size_t)\n",
    "batch_array_t = np.arange(N)\n",
    "np.random.shuffle(batch_array_t)\n",
    "batch_array_t=torch.tensor(batch_array_t.reshape([batch_number_t,batch_size_t]))\n"
   ]
  },
  {
   "cell_type": "markdown",
   "id": "24c17ccb",
   "metadata": {},
   "source": [
    "# First train with Trajectory-based and Statistics-based loss"
   ]
  },
  {
   "cell_type": "code",
   "execution_count": 25,
   "id": "ddf27a33",
   "metadata": {},
   "outputs": [],
   "source": [
    "train_epochs = 1\n",
    "loss_traj = []"
   ]
  },
  {
   "cell_type": "code",
   "execution_count": 26,
   "id": "e29be89c",
   "metadata": {},
   "outputs": [
    {
     "name": "stdout",
     "output_type": "stream",
     "text": [
      "Epoch = 0, Total loss = 2.9614447582325756\n",
      "Statistics loss = 19.893892288654072\n",
      "Traj loss for velocity= 0.3217294989795983\n"
     ]
    }
   ],
   "source": [
    "for i in range(train_epochs):\n",
    "    for nb in range(batch_number_t):\n",
    "        optimizer.zero_grad()\n",
    "        accl = model.cal_a_nn(pos_traj[0],vel_traj[0],rho_traj[0],batch_array_t[nb])\n",
    "    \n",
    "        # Trajectory-based loss function\n",
    "        accl_gt = traj_train_label_vel[0,batch_array_t[nb]]\n",
    "        drho_gt = traj_train_label_rho[0,batch_array_t[nb],0]\n",
    "        \n",
    "        traj_l2loss_vel = (accl[:,1:]-accl_gt).pow(2).mean()\n",
    "        traj_l2loss_rho = (accl[:,0]-drho_gt).pow(2).mean()\n",
    "        traj_l2loss = traj_l2loss_vel + traj_l2loss_rho\n",
    "    \n",
    "        # Statistics-based loss function\n",
    "        kl = histtopdf(datatohist,accl_gt,accl[:,1:])\n",
    "        kl_rho = histtopdf(datatohist_rho, drho_gt, accl[:,0])\n",
    "        kl_loss = kl + kl_rho\n",
    "        loss_stat = kl_loss\n",
    "\n",
    "        loss = alpha_traj*traj_l2loss +  alpha_kl*loss_stat\n",
    "\n",
    "        loss.backward()#retain_graph=True)\n",
    "        optimizer.step()\n",
    "        loss_traj.append(0)\n",
    "        loss_traj.append(traj_l2loss.cpu().detach().numpy())\n",
    "        loss_traj.append(kl_loss.cpu().detach().numpy())\n",
    "    print('Epoch = {}, Total loss = {}'.format(i, loss.cpu().detach().numpy()))    \n",
    "    print('Statistics loss = {}'.format(loss_stat.cpu().detach().numpy()))\n",
    "    print('Traj loss for velocity= {}'.format(traj_l2loss_vel.cpu().detach().numpy()))\n",
    "    scheduler.step()"
   ]
  },
  {
   "cell_type": "markdown",
   "id": "a82cfadd",
   "metadata": {},
   "source": [
    "# Then train with Field-based loss"
   ]
  },
  {
   "cell_type": "code",
   "execution_count": null,
   "id": "3a2cbcbe",
   "metadata": {},
   "outputs": [
    {
     "name": "stdout",
     "output_type": "stream",
     "text": [
      "Epoch = 0, Total loss = 1.2630326473619848\n",
      "Statistics loss = 9.174406356758663\n",
      "Traj loss for velocity= 0.3453333886934286\n",
      "Epoch = 0, Total loss = 1.17862618142305\n",
      "Statistics loss = 8.552518045892679\n",
      "Traj loss for velocity= 0.32312925243265883\n",
      "Epoch = 0, Total loss = 1.272332260713698\n",
      "Statistics loss = 9.47429385599441\n",
      "Traj loss for velocity= 0.3246603234322862\n",
      "Epoch = 0, Total loss = 1.2934744685984028\n",
      "Statistics loss = 9.48210454287661\n",
      "Traj loss for velocity= 0.3450043408921831\n",
      "Epoch = 0, Total loss = 1.2831193311212585\n",
      "Statistics loss = 9.72877318849294\n",
      "Traj loss for velocity= 0.31001738377683874\n",
      "Epoch = 0, Total loss = 1.2423135755993049\n",
      "Statistics loss = 9.357484193976475\n",
      "Traj loss for velocity= 0.30632969385037145\n",
      "Epoch = 0, Total loss = 1.3010495284785741\n",
      "Statistics loss = 9.700304166108566\n",
      "Traj loss for velocity= 0.3307763613797688\n",
      "Epoch = 0, Total loss = 1.1719639099377956\n",
      "Statistics loss = 8.574376599399542\n",
      "Traj loss for velocity= 0.3142855928146275\n",
      "Epoch = 0, Total loss = 1.3112814451708048\n",
      "Statistics loss = 9.99304654923074\n",
      "Traj loss for velocity= 0.3117358973563757\n",
      "Epoch = 0, Total loss = 1.228555770797063\n",
      "Statistics loss = 8.931283090238871\n",
      "Traj loss for velocity= 0.33517982072221136\n",
      "Epoch = 0, Total loss = 1.1769840090616055\n",
      "Statistics loss = 8.777160704425121\n",
      "Traj loss for velocity= 0.29902640988354934\n",
      "Epoch = 0, Total loss = 1.2030859713791393\n",
      "Statistics loss = 9.042058440158137\n",
      "Traj loss for velocity= 0.298631464878864\n",
      "Epoch = 0, Total loss = 1.2104709801429596\n",
      "Statistics loss = 9.063969986960023\n",
      "Traj loss for velocity= 0.3038194735722215\n",
      "Epoch = 0, Total loss = 1.128992438481695\n",
      "Statistics loss = 8.417399193367586\n",
      "Traj loss for velocity= 0.287007943941734\n",
      "Epoch = 0, Total loss = 1.0903411985422395\n",
      "Statistics loss = 8.02236472229838\n",
      "Traj loss for velocity= 0.28785696266517075\n",
      "Epoch = 0, Total loss = 1.3849812729800746\n",
      "Statistics loss = 10.942970171037956\n",
      "Traj loss for velocity= 0.2904540445588242\n",
      "Epoch = 0, Total loss = 1.2277263915660361\n",
      "Statistics loss = 9.4416708571517\n",
      "Traj loss for velocity= 0.2833465061026405\n",
      "Epoch = 0, Total loss = 1.1251602082877221\n",
      "Statistics loss = 8.293850275256109\n",
      "Traj loss for velocity= 0.29555739989276464\n",
      "Epoch = 0, Total loss = 1.3802210803266823\n",
      "Statistics loss = 10.874081013972187\n",
      "Traj loss for velocity= 0.29256336527612725\n",
      "Epoch = 0, Total loss = 1.2365739590655593\n",
      "Statistics loss = 9.523370923344011\n",
      "Traj loss for velocity= 0.28400605539310536\n",
      "Epoch = 0, Total loss = 1.1822699831142973\n",
      "Statistics loss = 9.02964482450037\n",
      "Traj loss for velocity= 0.27907488293290955\n",
      "Epoch = 0, Total loss = 1.173888347736803\n",
      "Statistics loss = 9.21452180957202\n",
      "Traj loss for velocity= 0.25222888066615856\n",
      "Epoch = 0, Total loss = 1.060096966044468\n",
      "Statistics loss = 8.095715872475452\n",
      "Traj loss for velocity= 0.250321020420195\n",
      "Epoch = 0, Total loss = 1.2411090455472422\n",
      "Statistics loss = 9.896205252793871\n",
      "Traj loss for velocity= 0.25126483403112493\n",
      "Epoch = 0, Total loss = 1.1071497306629796\n",
      "Statistics loss = 8.655147640327908\n",
      "Traj loss for velocity= 0.24141844394713294\n",
      "Epoch = 0, Total loss = 1.3183601702770176\n",
      "Statistics loss = 10.557325203153468\n",
      "Traj loss for velocity= 0.2623859414557335\n",
      "Epoch = 0, Total loss = 1.2705772037148924\n",
      "Statistics loss = 10.217280067163614\n",
      "Traj loss for velocity= 0.2486355842296625\n",
      "Epoch = 0, Total loss = 1.1216572585305764\n",
      "Statistics loss = 8.67352743991976\n",
      "Traj loss for velocity= 0.2540803036991865\n",
      "Epoch = 0, Total loss = 1.1503011319171537\n",
      "Statistics loss = 9.126312424789997\n",
      "Traj loss for velocity= 0.23745990604591632\n",
      "Epoch = 0, Total loss = 1.2025515746678757\n",
      "Statistics loss = 9.654241203510374\n",
      "Traj loss for velocity= 0.2369260845487094\n",
      "Epoch = 0, Total loss = 1.1970054495443974\n",
      "Statistics loss = 9.64091133383937\n",
      "Traj loss for velocity= 0.23268023358365766\n",
      "Epoch = 0, Total loss = 1.0709419368807662\n",
      "Statistics loss = 8.422929711097973\n",
      "Traj loss for velocity= 0.22844634965839936\n",
      "Epoch = 0, Total loss = 1.3694109930927785\n",
      "Statistics loss = 11.447956876794468\n",
      "Traj loss for velocity= 0.22440068355832218\n",
      "Epoch = 0, Total loss = 1.160144275692644\n",
      "Statistics loss = 9.268661119431657\n",
      "Traj loss for velocity= 0.23303717927119655\n"
     ]
    }
   ],
   "source": [
    "for i in range(train_epochs):\n",
    "    for nb in range(batch_number_f):\n",
    "        optimizer.zero_grad()\n",
    "        pred,accl,accl_gt,drho,drho_gt = model.cal_field_kl(pos_traj[0],vel_traj[:2],rho_traj[:2],batch_array_f[nb],w_field)\n",
    "        \n",
    "        l2loss = (pred-field_train_label[batch_array_f[nb]]).pow(2).mean()\n",
    "\n",
    "        kl = histtopdf(datatohist,accl_gt,accl)\n",
    "        kl_rho = histtopdf(datatohist_rho, drho_gt, drho)\n",
    "        kl_loss = kl + kl_rho\n",
    "\n",
    "        traj_l2loss_vel = (accl-accl_gt).pow(2).mean()\n",
    "        traj_l2loss_rho = (drho-drho_gt).pow(2).mean()\n",
    "        traj_l2loss = traj_l2loss_vel #+  traj_l2loss_rho  \n",
    "        \n",
    "        loss_stat = kl_loss\n",
    "\n",
    "        loss = alpha_traj*traj_l2loss +  alpha_kl*loss_stat + alpha_field* l2loss\n",
    "\n",
    "        loss.backward(retain_graph=True)\n",
    "        optimizer.step()\n",
    "        loss_traj.append(0)\n",
    "        loss_traj.append(traj_l2loss.cpu().detach().numpy())\n",
    "        loss_traj.append(kl_loss.cpu().detach().numpy())\n",
    "        \n",
    "        print('Epoch = {}, Total loss = {}'.format(i, loss.cpu().detach().numpy()))    \n",
    "        print('Statistics loss = {}'.format(loss_stat.cpu().detach().numpy()))\n",
    "        print('Traj loss for velocity= {}'.format(traj_l2loss_vel.cpu().detach().numpy()))\n",
    "        scheduler.step()"
   ]
  },
  {
   "cell_type": "code",
   "execution_count": null,
   "id": "d632ad65",
   "metadata": {},
   "outputs": [],
   "source": [
    "len(loss_traj)"
   ]
  }
 ],
 "metadata": {
  "kernelspec": {
   "display_name": "Python 3 (ipykernel)",
   "language": "python",
   "name": "python3"
  },
  "language_info": {
   "codemirror_mode": {
    "name": "ipython",
    "version": 3
   },
   "file_extension": ".py",
   "mimetype": "text/x-python",
   "name": "python",
   "nbconvert_exporter": "python",
   "pygments_lexer": "ipython3",
   "version": "3.9.7"
  }
 },
 "nbformat": 4,
 "nbformat_minor": 5
}
